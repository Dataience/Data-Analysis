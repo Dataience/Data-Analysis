{
 "cells": [
  {
   "cell_type": "code",
   "execution_count": 37,
   "metadata": {},
   "outputs": [],
   "source": [
    "import numpy as np\n",
    "import pandas as pd\n",
    "import os\n",
    "import matplotlib.pyplot as plt"
   ]
  },
  {
   "cell_type": "code",
   "execution_count": 38,
   "metadata": {},
   "outputs": [],
   "source": [
    "os.chdir('/Users/TigeressQueen/Downloads/Python for Data Science/DS_mod4/Assignment_Module 4/codes')"
   ]
  },
  {
   "cell_type": "code",
   "execution_count": 39,
   "metadata": {},
   "outputs": [],
   "source": [
    "#Read the three files\n",
    "\n",
    "math = pd.read_csv('MathScoreTerm1.csv')               \n",
    "physics = pd.read_csv('PhysicsScoreTerm1.csv')\n",
    "DS = pd.read_csv('DSScoreTerm1.csv')"
   ]
  },
  {
   "cell_type": "code",
   "execution_count": 41,
   "metadata": {},
   "outputs": [
    {
     "name": "stdout",
     "output_type": "stream",
     "text": [
      "             Name  Score  Age         Ethinicity Subject Sex  ID\n",
      "0  AI-KYUNG CHUNG   88.0   18     White American   Maths   M   1\n",
      "1     ALAN HARVEY   85.0   19  European American   Maths   M   2\n",
      "2    ALAN REYNAUD   45.0   19  European American   Maths   M   3\n",
      "3  ALBERT CENDANA   82.0   18     White American   Maths   M   4\n",
      "4  ALBERT HOLT JR   82.0   18     White American   Maths   F   5\n",
      "             Name  Score  Age         Ethinicity  Subject Sex  ID\n",
      "0  AI-KYUNG CHUNG   84.0   18     White American  Physics   M   1\n",
      "1     ALAN HARVEY   81.0   19  European American  Physics   M   2\n",
      "2    ALAN REYNAUD   41.0   19  European American  Physics   M   3\n",
      "3  ALBERT CENDANA   78.0   18     White American  Physics   M   4\n",
      "4  ALBERT HOLT JR   78.0   18     White American  Physics   F   5\n",
      "             Name  Score  Age         Ethinicity        Subject Sex  ID\n",
      "0  AI-KYUNG CHUNG   82.0   18     White American  Data Structue   M   1\n",
      "1     ALAN HARVEY   79.0   19  European American  Data Structue   M   2\n",
      "2    ALAN REYNAUD   39.0   19  European American  Data Structue   M   3\n",
      "3  ALBERT CENDANA   76.0   18     White American  Data Structue   M   4\n",
      "4  ALBERT HOLT JR   76.0   18     White American  Data Structue   F   5\n"
     ]
    }
   ],
   "source": [
    "#Preview the dataset\n",
    "\n",
    "print (math.head())\n",
    "print (physics.head())\n",
    "print (DS.head())"
   ]
  },
  {
   "cell_type": "code",
   "execution_count": 17,
   "metadata": {},
   "outputs": [
    {
     "name": "stdout",
     "output_type": "stream",
     "text": [
      "     Score  Age Subject Sex   ID\n",
      "0     88.0   18   Maths   M    1\n",
      "1     85.0   19   Maths   M    2\n",
      "2     45.0   19   Maths   M    3\n",
      "3     82.0   18   Maths   M    4\n",
      "4     82.0   18   Maths   F    5\n",
      "5     95.0   20   Maths   M    6\n",
      "6     95.0   18   Maths   M    7\n",
      "7     65.0   19   Maths   M    8\n",
      "8     88.0   18   Maths   M    9\n",
      "9     88.0   19   Maths   F   10\n",
      "10    53.0   20   Maths   M   11\n",
      "11    53.0   20   Maths   M   12\n",
      "12    66.0   19   Maths   M   13\n",
      "13    88.0   18   Maths   M   14\n",
      "14    88.0   21   Maths   F   15\n",
      "15    82.0   20   Maths   M   16\n",
      "16    31.0   18   Maths   M   17\n",
      "17    95.0   18   Maths   M   18\n",
      "18    91.0   18   Maths   M   19\n",
      "19    66.0   18   Maths   F   20\n",
      "20    82.0   18   Maths   M   21\n",
      "21    66.0   18   Maths   M   22\n",
      "22    75.0   18   Maths   M   23\n",
      "23    65.0   19   Maths   M   24\n",
      "24    91.0   20   Maths   F   25\n",
      "25    91.0   18   Maths   M   26\n",
      "26    53.0   20   Maths   M   27\n",
      "27    91.0   20   Maths   M   28\n",
      "28    88.0   21   Maths   M   29\n",
      "29    85.0   19   Maths   F   30\n",
      "..     ...  ...     ...  ..  ...\n",
      "569   65.0   19   Maths   F  570\n",
      "570   45.0   19   Maths   M  571\n",
      "571   82.0   20   Maths   M  572\n",
      "572   53.0   18   Maths   M  573\n",
      "573   85.0   18   Maths   M  574\n",
      "574   75.0   20   Maths   F  575\n",
      "575   85.0   21   Maths   M  576\n",
      "576   75.0   18   Maths   M  577\n",
      "577   85.0   19   Maths   M  578\n",
      "578   82.0   18   Maths   M  579\n",
      "579   65.0   21   Maths   F  580\n",
      "580   95.0   18   Maths   M  581\n",
      "581   91.0   20   Maths   M  582\n",
      "582   45.0   21   Maths   M  583\n",
      "583   95.0   18   Maths   M  584\n",
      "584   91.0   18   Maths   F  585\n",
      "585   53.0   20   Maths   M  586\n",
      "586   85.0   19   Maths   M  587\n",
      "587   45.0   18   Maths   M  588\n",
      "588   88.0   19   Maths   M  589\n",
      "589   82.0   20   Maths   F  590\n",
      "590   65.0   19   Maths   M  591\n",
      "591   88.0   19   Maths   M  592\n",
      "592   91.0   20   Maths   M  593\n",
      "593   88.0   19   Maths   M  594\n",
      "594   45.0   19   Maths   F  595\n",
      "595   75.0   18   Maths   M  596\n",
      "596   53.0   20   Maths   M  597\n",
      "597   75.0   20   Maths   M  598\n",
      "598   88.0   19   Maths   M  599\n",
      "\n",
      "[599 rows x 5 columns]\n"
     ]
    }
   ],
   "source": [
    " #2 deleting Name and Ethnicity from the dataset to enforce confidentality\n",
    "\n",
    "math = math.drop(['Name','Ethinicity'],axis=1)\n",
    "physics = physics.drop(['Name','Ethinicity'],axis=1)\n",
    "DS = DS.drop(['Name','Ethinicity'],axis=1)\n",
    "print (math)"
   ]
  },
  {
   "cell_type": "code",
   "execution_count": 42,
   "metadata": {},
   "outputs": [
    {
     "name": "stdout",
     "output_type": "stream",
     "text": [
      "Name          0\n",
      "Score         3\n",
      "Age           0\n",
      "Ethinicity    0\n",
      "Subject       0\n",
      "Sex           0\n",
      "ID            0\n",
      "dtype: int64\n"
     ]
    }
   ],
   "source": [
    "#Check summary of missing values\n",
    "\n",
    "print (math.isnull().sum())"
   ]
  },
  {
   "cell_type": "code",
   "execution_count": 43,
   "metadata": {},
   "outputs": [
    {
     "name": "stdout",
     "output_type": "stream",
     "text": [
      "Name          0\n",
      "Score         0\n",
      "Age           0\n",
      "Ethinicity    0\n",
      "Subject       0\n",
      "Sex           0\n",
      "ID            0\n",
      "dtype: int64\n"
     ]
    }
   ],
   "source": [
    "#Fill missing score with 0\n",
    "math['Score'] = math['Score'].fillna(0)\n",
    "print (math.isnull().sum())"
   ]
  },
  {
   "cell_type": "code",
   "execution_count": 44,
   "metadata": {},
   "outputs": [
    {
     "name": "stdout",
     "output_type": "stream",
     "text": [
      "Name          0\n",
      "Score         6\n",
      "Age           0\n",
      "Ethinicity    0\n",
      "Subject       0\n",
      "Sex           0\n",
      "ID            0\n",
      "dtype: int64\n"
     ]
    }
   ],
   "source": [
    "#Do the same for physics and DS\n",
    "print (physics.isnull().sum())\n",
    "\n",
    "#filemerge = pd.concat([math,physics,DS],axis=1)           #4 merge 3 files"
   ]
  },
  {
   "cell_type": "code",
   "execution_count": 45,
   "metadata": {},
   "outputs": [
    {
     "name": "stdout",
     "output_type": "stream",
     "text": [
      "Name          0\n",
      "Score         0\n",
      "Age           0\n",
      "Ethinicity    0\n",
      "Subject       0\n",
      "Sex           0\n",
      "ID            0\n",
      "dtype: int64\n"
     ]
    }
   ],
   "source": [
    "physics['Score'] = physics['Score'].fillna(0)\n",
    "print (physics.isnull().sum())"
   ]
  },
  {
   "cell_type": "code",
   "execution_count": 46,
   "metadata": {},
   "outputs": [
    {
     "name": "stdout",
     "output_type": "stream",
     "text": [
      "Name          0\n",
      "Score         8\n",
      "Age           0\n",
      "Ethinicity    0\n",
      "Subject       0\n",
      "Sex           0\n",
      "ID            0\n",
      "dtype: int64\n"
     ]
    }
   ],
   "source": [
    "print (DS.isnull().sum())"
   ]
  },
  {
   "cell_type": "code",
   "execution_count": 47,
   "metadata": {},
   "outputs": [
    {
     "name": "stdout",
     "output_type": "stream",
     "text": [
      "Name          0\n",
      "Score         0\n",
      "Age           0\n",
      "Ethinicity    0\n",
      "Subject       0\n",
      "Sex           0\n",
      "ID            0\n",
      "dtype: int64\n"
     ]
    }
   ],
   "source": [
    "DS['Score'] = DS['Score'].fillna(0)\n",
    "print (DS.isnull().sum())"
   ]
  },
  {
   "cell_type": "code",
   "execution_count": 48,
   "metadata": {},
   "outputs": [
    {
     "name": "stdout",
     "output_type": "stream",
     "text": [
      "                          Name  Score  Age         Ethinicity        Subject  \\\n",
      "0               AI-KYUNG CHUNG   88.0   18     White American          Maths   \n",
      "1                  ALAN HARVEY   85.0   19  European American          Maths   \n",
      "2                 ALAN REYNAUD   45.0   19  European American          Maths   \n",
      "3               ALBERT CENDANA   82.0   18     White American          Maths   \n",
      "4               ALBERT HOLT JR   82.0   18     White American          Maths   \n",
      "5               ALBERT PARDINI   95.0   20     White American          Maths   \n",
      "6                    ALBERT YU   95.0   18     White American          Maths   \n",
      "7              ALBERTO PEDRUCO   65.0   19     White American          Maths   \n",
      "8                   ALEC BALMY   88.0   18           Hispanic          Maths   \n",
      "9            ALEETA VAN RUNKLE   88.0   19           Hispanic          Maths   \n",
      "10                    ALEX TSE   53.0   20     White American          Maths   \n",
      "11              ALEXANDER CHEN   53.0   20     White American          Maths   \n",
      "12              ALEXANDER KWAN   66.0   19     White American          Maths   \n",
      "13              ALEXIS GOLDNER   88.0   18     White American          Maths   \n",
      "14                ALLEN TURPIN   88.0   21     White American          Maths   \n",
      "15                   ALSON LEE   82.0   20     White American          Maths   \n",
      "16                   ALVIN LAU   31.0   18     White American          Maths   \n",
      "17                   AMEN CHOW   95.0   18  European American          Maths   \n",
      "18            AMPARO RODRIGUEZ   91.0   18           Hispanic          Maths   \n",
      "19                   AMY BROWN   66.0   18     White American          Maths   \n",
      "20                    AMY HART   82.0   18           Hispanic          Maths   \n",
      "21                 ANA SAMPERA   66.0   18  European American          Maths   \n",
      "22            ANDRE ANDREWS SR   75.0   18     White American          Maths   \n",
      "23              ANDRE WILLIAMS   65.0   19           Hispanic          Maths   \n",
      "24                ANDREW LOGAN   91.0   20  European American          Maths   \n",
      "25                ANDREW SAITZ   91.0   18     White American          Maths   \n",
      "26                 ANDY ZANOFF   53.0   20           Hispanic          Maths   \n",
      "27              ANGELA PLATZER   91.0   20  European American          Maths   \n",
      "28                  ANN MANNIX   88.0   21           Hispanic          Maths   \n",
      "29                  ANNA BROWN   85.0   19     White American          Maths   \n",
      "..                         ...    ...  ...                ...            ...   \n",
      "569                 TRYG MCCOY   59.0   19           Hispanic  Data Structue   \n",
      "570             TUAMELIE MOALA   39.0   19  European American  Data Structue   \n",
      "571              TYRONE PRUITT   76.0   20           Hispanic  Data Structue   \n",
      "572             TYRONNE JULIAN   47.0   18  European American  Data Structue   \n",
      "573              VALERIE AGARD   79.0   18  European American  Data Structue   \n",
      "574             VALERIE INOUYE   69.0   20  European American  Data Structue   \n",
      "575                     VAN LY   79.0   21     White American  Data Structue   \n",
      "576                 VENUS AZAR   69.0   18     White American  Data Structue   \n",
      "577            VERNONICA JONES   79.0   19     White American  Data Structue   \n",
      "578              VICKI CLAYTON   76.0   18     White American  Data Structue   \n",
      "579              VICTOR WYRSCH   59.0   21     White American  Data Structue   \n",
      "580              VINCENT DAVIS   89.0   18   African American  Data Structue   \n",
      "581           VINCENT PAMPANIN   85.0   20     White American  Data Structue   \n",
      "582                 VIVIAN DAY   39.0   21           Hispanic  Data Structue   \n",
      "583            WAYNE SNODGRASS   89.0   18           Hispanic  Data Structue   \n",
      "584                WENDY STILL   85.0   18  European American  Data Structue   \n",
      "585                WHITNEY YEE   47.0   20     White American  Data Structue   \n",
      "586          WILLIAM MCFARLAND   79.0   19     White American  Data Structue   \n",
      "587          WILLIAM MCFARLAND   39.0   18           Hispanic  Data Structue   \n",
      "588            WILLIAM MULKEEN   82.0   19  European American  Data Structue   \n",
      "589              WILLIAM RADER   76.0   20           Hispanic  Data Structue   \n",
      "590           WILLIAM ROUALDES   59.0   19     White American  Data Structue   \n",
      "591              WILLIAM SCOTT   82.0   19           Hispanic  Data Structue   \n",
      "592         WILLIAM SIFFERMANN   85.0   20           Hispanic  Data Structue   \n",
      "593                  WING CHAN   82.0   19  European American  Data Structue   \n",
      "594                    WING NG   39.0   19     White American  Data Structue   \n",
      "595                YIFANG QIAN   69.0   18     White American  Data Structue   \n",
      "596           ZACHARY PUMPHREY   47.0   20     White American  Data Structue   \n",
      "597  ZEBA IMAN NAZEERI-SIMMONS   69.0   20           Hispanic  Data Structue   \n",
      "598            ZHI JIAR ZHUANG    0.0   19           Hispanic  Data Structue   \n",
      "\n",
      "    Sex   ID  \n",
      "0     M    1  \n",
      "1     M    2  \n",
      "2     M    3  \n",
      "3     M    4  \n",
      "4     F    5  \n",
      "5     M    6  \n",
      "6     M    7  \n",
      "7     M    8  \n",
      "8     M    9  \n",
      "9     F   10  \n",
      "10    M   11  \n",
      "11    M   12  \n",
      "12    M   13  \n",
      "13    M   14  \n",
      "14    F   15  \n",
      "15    M   16  \n",
      "16    M   17  \n",
      "17    M   18  \n",
      "18    M   19  \n",
      "19    F   20  \n",
      "20    M   21  \n",
      "21    M   22  \n",
      "22    M   23  \n",
      "23    M   24  \n",
      "24    F   25  \n",
      "25    M   26  \n",
      "26    M   27  \n",
      "27    M   28  \n",
      "28    M   29  \n",
      "29    F   30  \n",
      "..   ..  ...  \n",
      "569   F  570  \n",
      "570   M  571  \n",
      "571   M  572  \n",
      "572   M  573  \n",
      "573   M  574  \n",
      "574   F  575  \n",
      "575   M  576  \n",
      "576   M  577  \n",
      "577   M  578  \n",
      "578   M  579  \n",
      "579   F  580  \n",
      "580   M  581  \n",
      "581   M  582  \n",
      "582   M  583  \n",
      "583   M  584  \n",
      "584   F  585  \n",
      "585   M  586  \n",
      "586   M  587  \n",
      "587   M  588  \n",
      "588   M  589  \n",
      "589   F  590  \n",
      "590   M  591  \n",
      "591   M  592  \n",
      "592   M  593  \n",
      "593   M  594  \n",
      "594   F  595  \n",
      "595   M  596  \n",
      "596   M  597  \n",
      "597   M  598  \n",
      "598   M  599  \n",
      "\n",
      "[1797 rows x 7 columns]\n"
     ]
    }
   ],
   "source": [
    "#merge all dataset\n",
    "combinedalldata = pd.concat([math,physics,DS])\n",
    "print (combinedalldata)"
   ]
  },
  {
   "cell_type": "code",
   "execution_count": 49,
   "metadata": {},
   "outputs": [
    {
     "name": "stdout",
     "output_type": "stream",
     "text": [
      "                          Name  Score  Age         Ethinicity        Subject  \\\n",
      "0               AI-KYUNG CHUNG   88.0   18     White American          Maths   \n",
      "1                  ALAN HARVEY   85.0   19  European American          Maths   \n",
      "2                 ALAN REYNAUD   45.0   19  European American          Maths   \n",
      "3               ALBERT CENDANA   82.0   18     White American          Maths   \n",
      "4               ALBERT HOLT JR   82.0   18     White American          Maths   \n",
      "5               ALBERT PARDINI   95.0   20     White American          Maths   \n",
      "6                    ALBERT YU   95.0   18     White American          Maths   \n",
      "7              ALBERTO PEDRUCO   65.0   19     White American          Maths   \n",
      "8                   ALEC BALMY   88.0   18           Hispanic          Maths   \n",
      "9            ALEETA VAN RUNKLE   88.0   19           Hispanic          Maths   \n",
      "10                    ALEX TSE   53.0   20     White American          Maths   \n",
      "11              ALEXANDER CHEN   53.0   20     White American          Maths   \n",
      "12              ALEXANDER KWAN   66.0   19     White American          Maths   \n",
      "13              ALEXIS GOLDNER   88.0   18     White American          Maths   \n",
      "14                ALLEN TURPIN   88.0   21     White American          Maths   \n",
      "15                   ALSON LEE   82.0   20     White American          Maths   \n",
      "16                   ALVIN LAU   31.0   18     White American          Maths   \n",
      "17                   AMEN CHOW   95.0   18  European American          Maths   \n",
      "18            AMPARO RODRIGUEZ   91.0   18           Hispanic          Maths   \n",
      "19                   AMY BROWN   66.0   18     White American          Maths   \n",
      "20                    AMY HART   82.0   18           Hispanic          Maths   \n",
      "21                 ANA SAMPERA   66.0   18  European American          Maths   \n",
      "22            ANDRE ANDREWS SR   75.0   18     White American          Maths   \n",
      "23              ANDRE WILLIAMS   65.0   19           Hispanic          Maths   \n",
      "24                ANDREW LOGAN   91.0   20  European American          Maths   \n",
      "25                ANDREW SAITZ   91.0   18     White American          Maths   \n",
      "26                 ANDY ZANOFF   53.0   20           Hispanic          Maths   \n",
      "27              ANGELA PLATZER   91.0   20  European American          Maths   \n",
      "28                  ANN MANNIX   88.0   21           Hispanic          Maths   \n",
      "29                  ANNA BROWN   85.0   19     White American          Maths   \n",
      "..                         ...    ...  ...                ...            ...   \n",
      "569                 TRYG MCCOY   59.0   19           Hispanic  Data Structue   \n",
      "570             TUAMELIE MOALA   39.0   19  European American  Data Structue   \n",
      "571              TYRONE PRUITT   76.0   20           Hispanic  Data Structue   \n",
      "572             TYRONNE JULIAN   47.0   18  European American  Data Structue   \n",
      "573              VALERIE AGARD   79.0   18  European American  Data Structue   \n",
      "574             VALERIE INOUYE   69.0   20  European American  Data Structue   \n",
      "575                     VAN LY   79.0   21     White American  Data Structue   \n",
      "576                 VENUS AZAR   69.0   18     White American  Data Structue   \n",
      "577            VERNONICA JONES   79.0   19     White American  Data Structue   \n",
      "578              VICKI CLAYTON   76.0   18     White American  Data Structue   \n",
      "579              VICTOR WYRSCH   59.0   21     White American  Data Structue   \n",
      "580              VINCENT DAVIS   89.0   18   African American  Data Structue   \n",
      "581           VINCENT PAMPANIN   85.0   20     White American  Data Structue   \n",
      "582                 VIVIAN DAY   39.0   21           Hispanic  Data Structue   \n",
      "583            WAYNE SNODGRASS   89.0   18           Hispanic  Data Structue   \n",
      "584                WENDY STILL   85.0   18  European American  Data Structue   \n",
      "585                WHITNEY YEE   47.0   20     White American  Data Structue   \n",
      "586          WILLIAM MCFARLAND   79.0   19     White American  Data Structue   \n",
      "587          WILLIAM MCFARLAND   39.0   18           Hispanic  Data Structue   \n",
      "588            WILLIAM MULKEEN   82.0   19  European American  Data Structue   \n",
      "589              WILLIAM RADER   76.0   20           Hispanic  Data Structue   \n",
      "590           WILLIAM ROUALDES   59.0   19     White American  Data Structue   \n",
      "591              WILLIAM SCOTT   82.0   19           Hispanic  Data Structue   \n",
      "592         WILLIAM SIFFERMANN   85.0   20           Hispanic  Data Structue   \n",
      "593                  WING CHAN   82.0   19  European American  Data Structue   \n",
      "594                    WING NG   39.0   19     White American  Data Structue   \n",
      "595                YIFANG QIAN   69.0   18     White American  Data Structue   \n",
      "596           ZACHARY PUMPHREY   47.0   20     White American  Data Structue   \n",
      "597  ZEBA IMAN NAZEERI-SIMMONS   69.0   20           Hispanic  Data Structue   \n",
      "598            ZHI JIAR ZHUANG    0.0   19           Hispanic  Data Structue   \n",
      "\n",
      "     Sex   ID  \n",
      "0      1    1  \n",
      "1      1    2  \n",
      "2      1    3  \n",
      "3      1    4  \n",
      "4      2    5  \n",
      "5      1    6  \n",
      "6      1    7  \n",
      "7      1    8  \n",
      "8      1    9  \n",
      "9      2   10  \n",
      "10     1   11  \n",
      "11     1   12  \n",
      "12     1   13  \n",
      "13     1   14  \n",
      "14     2   15  \n",
      "15     1   16  \n",
      "16     1   17  \n",
      "17     1   18  \n",
      "18     1   19  \n",
      "19     2   20  \n",
      "20     1   21  \n",
      "21     1   22  \n",
      "22     1   23  \n",
      "23     1   24  \n",
      "24     2   25  \n",
      "25     1   26  \n",
      "26     1   27  \n",
      "27     1   28  \n",
      "28     1   29  \n",
      "29     2   30  \n",
      "..   ...  ...  \n",
      "569    2  570  \n",
      "570    1  571  \n",
      "571    1  572  \n",
      "572    1  573  \n",
      "573    1  574  \n",
      "574    2  575  \n",
      "575    1  576  \n",
      "576    1  577  \n",
      "577    1  578  \n",
      "578    1  579  \n",
      "579    2  580  \n",
      "580    1  581  \n",
      "581    1  582  \n",
      "582    1  583  \n",
      "583    1  584  \n",
      "584    2  585  \n",
      "585    1  586  \n",
      "586    1  587  \n",
      "587    1  588  \n",
      "588    1  589  \n",
      "589    2  590  \n",
      "590    1  591  \n",
      "591    1  592  \n",
      "592    1  593  \n",
      "593    1  594  \n",
      "594    2  595  \n",
      "595    1  596  \n",
      "596    1  597  \n",
      "597    1  598  \n",
      "598    1  599  \n",
      "\n",
      "[1797 rows x 7 columns]\n"
     ]
    }
   ],
   "source": [
    "#Convert Sex M to 1 and F to 2\n",
    "\n",
    "combinedalldata['Sex'] = combinedalldata['Sex'].map({'M':1,'F':2}).astype(int)\n",
    "print (combinedalldata)"
   ]
  },
  {
   "cell_type": "code",
   "execution_count": 50,
   "metadata": {},
   "outputs": [],
   "source": [
    "#6 Storing data in new file\n",
    "combinedalldata.to_csv('/Users/TigeressQueen/Downloads/Python for Data Science/DS_mod4/Assignment_Module 4/codes/ScoreFinal.csv') "
   ]
  }
 ],
 "metadata": {
  "kernelspec": {
   "display_name": "Python 3",
   "language": "python",
   "name": "python3"
  },
  "language_info": {
   "codemirror_mode": {
    "name": "ipython",
    "version": 3
   },
   "file_extension": ".py",
   "mimetype": "text/x-python",
   "name": "python",
   "nbconvert_exporter": "python",
   "pygments_lexer": "ipython3",
   "version": "3.7.1"
  }
 },
 "nbformat": 4,
 "nbformat_minor": 2
}
